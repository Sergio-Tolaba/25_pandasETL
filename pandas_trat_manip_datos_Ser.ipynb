{
  "nbformat": 4,
  "nbformat_minor": 0,
  "metadata": {
    "colab": {
      "provenance": [],
      "include_colab_link": true
    },
    "kernelspec": {
      "name": "python3",
      "display_name": "Python 3"
    },
    "language_info": {
      "name": "python"
    }
  },
  "cells": [
    {
      "cell_type": "markdown",
      "metadata": {
        "id": "view-in-github",
        "colab_type": "text"
      },
      "source": [
        "<a href=\"https://colab.research.google.com/github/Sergio-Tolaba/25_pandasETL/blob/main/pandas_trat_manip_datos_Ser.ipynb\" target=\"_parent\"><img src=\"https://colab.research.google.com/assets/colab-badge.svg\" alt=\"Open In Colab\"/></a>"
      ]
    },
    {
      "cell_type": "code",
      "source": [
        "from google.colab import drive\n",
        "drive.mount('/content/drive')"
      ],
      "metadata": {
        "colab": {
          "base_uri": "https://localhost:8080/"
        },
        "id": "VGv_CbtE57Vo",
        "outputId": "957b1db5-7d01-463b-9755-d3236fcf96ce"
      },
      "execution_count": 1,
      "outputs": [
        {
          "output_type": "stream",
          "name": "stdout",
          "text": [
            "Mounted at /content/drive\n"
          ]
        }
      ]
    },
    {
      "cell_type": "markdown",
      "source": [
        "# PROBLEMA DEL NEGOCIO"
      ],
      "metadata": {
        "id": "HAgdbTdg_pRP"
      }
    },
    {
      "cell_type": "markdown",
      "source": [
        "## Entiendo el problema"
      ],
      "metadata": {
        "id": "HS2iqm_u_0Vq"
      }
    },
    {
      "cell_type": "code",
      "execution_count": 2,
      "metadata": {
        "id": "lGhf_NU-_NRR"
      },
      "outputs": [],
      "source": [
        "import pandas as pd"
      ]
    },
    {
      "cell_type": "code",
      "source": [
        "datos = pd.read_json('/content/drive/MyDrive/25_pandasETL/data/datos_hosting.json')\n",
        "datos\n"
      ],
      "metadata": {
        "colab": {
          "base_uri": "https://localhost:8080/",
          "height": 304
        },
        "id": "Ou_GYgrOArES",
        "outputId": "32dcdf21-685d-494a-b476-6ecff51166cd"
      },
      "execution_count": 6,
      "outputs": [
        {
          "output_type": "error",
          "ename": "FileNotFoundError",
          "evalue": "File /content/drive/MyDrive/25_pandasETL/data/datos_hosting.json does not exist",
          "traceback": [
            "\u001b[0;31m---------------------------------------------------------------------------\u001b[0m",
            "\u001b[0;31mFileNotFoundError\u001b[0m                         Traceback (most recent call last)",
            "\u001b[0;32m<ipython-input-6-0f6117e0be51>\u001b[0m in \u001b[0;36m<cell line: 0>\u001b[0;34m()\u001b[0m\n\u001b[0;32m----> 1\u001b[0;31m \u001b[0mdatos\u001b[0m \u001b[0;34m=\u001b[0m \u001b[0mpd\u001b[0m\u001b[0;34m.\u001b[0m\u001b[0mread_json\u001b[0m\u001b[0;34m(\u001b[0m\u001b[0;34m'/content/drive/MyDrive/25_pandasETL/data/datos_hosting.json'\u001b[0m\u001b[0;34m)\u001b[0m\u001b[0;34m\u001b[0m\u001b[0;34m\u001b[0m\u001b[0m\n\u001b[0m\u001b[1;32m      2\u001b[0m \u001b[0mdatos\u001b[0m\u001b[0;34m\u001b[0m\u001b[0;34m\u001b[0m\u001b[0m\n",
            "\u001b[0;32m/usr/local/lib/python3.11/dist-packages/pandas/io/json/_json.py\u001b[0m in \u001b[0;36mread_json\u001b[0;34m(path_or_buf, orient, typ, dtype, convert_axes, convert_dates, keep_default_dates, precise_float, date_unit, encoding, encoding_errors, lines, chunksize, compression, nrows, storage_options, dtype_backend, engine)\u001b[0m\n\u001b[1;32m    789\u001b[0m         \u001b[0mconvert_axes\u001b[0m \u001b[0;34m=\u001b[0m \u001b[0;32mTrue\u001b[0m\u001b[0;34m\u001b[0m\u001b[0;34m\u001b[0m\u001b[0m\n\u001b[1;32m    790\u001b[0m \u001b[0;34m\u001b[0m\u001b[0m\n\u001b[0;32m--> 791\u001b[0;31m     json_reader = JsonReader(\n\u001b[0m\u001b[1;32m    792\u001b[0m         \u001b[0mpath_or_buf\u001b[0m\u001b[0;34m,\u001b[0m\u001b[0;34m\u001b[0m\u001b[0;34m\u001b[0m\u001b[0m\n\u001b[1;32m    793\u001b[0m         \u001b[0morient\u001b[0m\u001b[0;34m=\u001b[0m\u001b[0morient\u001b[0m\u001b[0;34m,\u001b[0m\u001b[0;34m\u001b[0m\u001b[0;34m\u001b[0m\u001b[0m\n",
            "\u001b[0;32m/usr/local/lib/python3.11/dist-packages/pandas/io/json/_json.py\u001b[0m in \u001b[0;36m__init__\u001b[0;34m(self, filepath_or_buffer, orient, typ, dtype, convert_axes, convert_dates, keep_default_dates, precise_float, date_unit, encoding, lines, chunksize, compression, nrows, storage_options, encoding_errors, dtype_backend, engine)\u001b[0m\n\u001b[1;32m    902\u001b[0m             \u001b[0mself\u001b[0m\u001b[0;34m.\u001b[0m\u001b[0mdata\u001b[0m \u001b[0;34m=\u001b[0m \u001b[0mfilepath_or_buffer\u001b[0m\u001b[0;34m\u001b[0m\u001b[0;34m\u001b[0m\u001b[0m\n\u001b[1;32m    903\u001b[0m         \u001b[0;32melif\u001b[0m \u001b[0mself\u001b[0m\u001b[0;34m.\u001b[0m\u001b[0mengine\u001b[0m \u001b[0;34m==\u001b[0m \u001b[0;34m\"ujson\"\u001b[0m\u001b[0;34m:\u001b[0m\u001b[0;34m\u001b[0m\u001b[0;34m\u001b[0m\u001b[0m\n\u001b[0;32m--> 904\u001b[0;31m             \u001b[0mdata\u001b[0m \u001b[0;34m=\u001b[0m \u001b[0mself\u001b[0m\u001b[0;34m.\u001b[0m\u001b[0m_get_data_from_filepath\u001b[0m\u001b[0;34m(\u001b[0m\u001b[0mfilepath_or_buffer\u001b[0m\u001b[0;34m)\u001b[0m\u001b[0;34m\u001b[0m\u001b[0;34m\u001b[0m\u001b[0m\n\u001b[0m\u001b[1;32m    905\u001b[0m             \u001b[0mself\u001b[0m\u001b[0;34m.\u001b[0m\u001b[0mdata\u001b[0m \u001b[0;34m=\u001b[0m \u001b[0mself\u001b[0m\u001b[0;34m.\u001b[0m\u001b[0m_preprocess_data\u001b[0m\u001b[0;34m(\u001b[0m\u001b[0mdata\u001b[0m\u001b[0;34m)\u001b[0m\u001b[0;34m\u001b[0m\u001b[0;34m\u001b[0m\u001b[0m\n\u001b[1;32m    906\u001b[0m \u001b[0;34m\u001b[0m\u001b[0m\n",
            "\u001b[0;32m/usr/local/lib/python3.11/dist-packages/pandas/io/json/_json.py\u001b[0m in \u001b[0;36m_get_data_from_filepath\u001b[0;34m(self, filepath_or_buffer)\u001b[0m\n\u001b[1;32m    958\u001b[0m             \u001b[0;32mand\u001b[0m \u001b[0;32mnot\u001b[0m \u001b[0mfile_exists\u001b[0m\u001b[0;34m(\u001b[0m\u001b[0mfilepath_or_buffer\u001b[0m\u001b[0;34m)\u001b[0m\u001b[0;34m\u001b[0m\u001b[0;34m\u001b[0m\u001b[0m\n\u001b[1;32m    959\u001b[0m         ):\n\u001b[0;32m--> 960\u001b[0;31m             \u001b[0;32mraise\u001b[0m \u001b[0mFileNotFoundError\u001b[0m\u001b[0;34m(\u001b[0m\u001b[0;34mf\"File {filepath_or_buffer} does not exist\"\u001b[0m\u001b[0;34m)\u001b[0m\u001b[0;34m\u001b[0m\u001b[0;34m\u001b[0m\u001b[0m\n\u001b[0m\u001b[1;32m    961\u001b[0m         \u001b[0;32melse\u001b[0m\u001b[0;34m:\u001b[0m\u001b[0;34m\u001b[0m\u001b[0;34m\u001b[0m\u001b[0m\n\u001b[1;32m    962\u001b[0m             warnings.warn(\n",
            "\u001b[0;31mFileNotFoundError\u001b[0m: File /content/drive/MyDrive/25_pandasETL/data/datos_hosting.json does not exist"
          ]
        }
      ]
    },
    {
      "cell_type": "code",
      "source": [
        "datos = pd.json_normalize(datos['info_inmuebles'])\n",
        "datos.head()"
      ],
      "metadata": {
        "id": "e504Z4U3Bevo"
      },
      "execution_count": null,
      "outputs": []
    },
    {
      "cell_type": "code",
      "source": [
        "datos.info() #<class 'pandas.core.frame.DataFrame'> // Hay muchas listas y diccionarios"
      ],
      "metadata": {
        "id": "ToR-7zwE2Tk8"
      },
      "execution_count": null,
      "outputs": []
    },
    {
      "cell_type": "code",
      "source": [
        "columnas = list(datos.columns)\n",
        "columnas"
      ],
      "metadata": {
        "id": "01iRG_gD2V1D"
      },
      "execution_count": null,
      "outputs": []
    },
    {
      "cell_type": "code",
      "source": [
        "datos =datos.explode(columnas[3:]) #.explode se desglosaron las listas\n",
        "datos"
      ],
      "metadata": {
        "id": "6SF2hs5bCRBR"
      },
      "execution_count": null,
      "outputs": []
    },
    {
      "cell_type": "code",
      "source": [
        "# Si quiero que esta tabla sea mi nuevo df hay que resetear el indice ya los que tengo se repiten y eso no está bien\n",
        "datos.reset_index(drop=True, inplace=True)\n",
        "datos"
      ],
      "metadata": {
        "id": "cu2v-g2IKvOz"
      },
      "execution_count": null,
      "outputs": []
    },
    {
      "cell_type": "code",
      "source": [
        "datos.info() # cuando pandas no sabe el tipo de valores pone objet pero no todos son object (str si), hay numeros"
      ],
      "metadata": {
        "id": "O_dLAlzYOa3L"
      },
      "execution_count": null,
      "outputs": []
    },
    {
      "cell_type": "code",
      "source": [
        "# Para transformar object a int o float necesitamos numpy\n",
        "import numpy as np"
      ],
      "metadata": {
        "id": "CdQ2BAEhOdqr"
      },
      "execution_count": null,
      "outputs": []
    },
    {
      "cell_type": "code",
      "source": [
        "datos['max_hospedes']=datos['max_hospedes'].astype(np.int64) # Todos los valores tienen que ser enteros, si hay uno que es str etc =>Error\n",
        "datos.info()"
      ],
      "metadata": {
        "id": "ftabcuscQflQ"
      },
      "execution_count": null,
      "outputs": []
    },
    {
      "cell_type": "code",
      "source": [
        "# Otras columnas con todos números enteros=>cantidad_...\n",
        "col_cantidad = ['cantidad_baños', 'cantidad_cuartos','cantidad_camas']\n"
      ],
      "metadata": {
        "id": "4brRmEMsRQLI"
      },
      "execution_count": null,
      "outputs": []
    },
    {
      "cell_type": "code",
      "source": [
        "datos[col_cantidad]=datos[col_cantidad].astype(np.int64)\n",
        "datos.info()"
      ],
      "metadata": {
        "id": "bhDfLqXxT6yY"
      },
      "execution_count": null,
      "outputs": []
    },
    {
      "cell_type": "code",
      "source": [
        "datos['evaluacion_general']=datos['evaluacion_general'].astype(np.float64)\n",
        "datos.info()"
      ],
      "metadata": {
        "id": "hJOZDpXl5uzb"
      },
      "execution_count": null,
      "outputs": []
    },
    {
      "cell_type": "markdown",
      "source": [
        "## 06 Números en string\n",
        "* Saco todo lo que no es número y si figura con separador de miles o con coma como separador decimal. Tiene que quedar el número con punto y el decimal\n",
        "* Luego paso el str a float64"
      ],
      "metadata": {
        "id": "RawYJNyBBWtj"
      }
    },
    {
      "cell_type": "code",
      "source": [
        "# A la columna $Precios, le elimino $, le elimino serarador de miles (,) y los espacios\n",
        "datos['precio'] = datos['precio'].apply(lambda x: x.replace('$','').replace(',','').strip()) #.apply sólo para 1 columna(=serie)\n",
        "datos['precio'] = datos['precio'].astype(np.float64)\n",
        "datos.info()\n"
      ],
      "metadata": {
        "id": "BRTbH8u4-i5q"
      },
      "execution_count": null,
      "outputs": []
    },
    {
      "cell_type": "code",
      "source": [
        "datos['precio']\n"
      ],
      "metadata": {
        "id": "Tl9r4M_Q_wlP"
      },
      "execution_count": null,
      "outputs": []
    },
    {
      "cell_type": "markdown",
      "source": [
        "## 08 Transformación en múltiples columnas"
      ],
      "metadata": {
        "id": "MDFxX9iMC-Ir"
      }
    },
    {
      "cell_type": "code",
      "source": [
        "# Inspeccionar dos o más columnas=> [[]] ya no es una serie como una columna, es un df => .applymap\n",
        "datos[['cuota_deposito', 'cuota_limpieza']]=datos[['cuota_deposito', 'cuota_limpieza']].applymap(lambda x: x.replace('$','').replace(',','').strip())\n"
      ],
      "metadata": {
        "id": "oI-Hz6mLDAki"
      },
      "execution_count": null,
      "outputs": []
    },
    {
      "cell_type": "code",
      "source": [
        "datos[['cuota_deposito', 'cuota_limpieza']]=datos[['cuota_deposito', 'cuota_limpieza']].astype(np.float64)\n",
        "datos.info()"
      ],
      "metadata": {
        "id": "3_xBqnn4HZor"
      },
      "execution_count": null,
      "outputs": []
    },
    {
      "cell_type": "markdown",
      "source": [
        "## 03. Datos de texto - 02 El problema del texto\n",
        "* Tokenización: separar cada palabra."
      ],
      "metadata": {
        "id": "YnVWZwKeys8k"
      }
    },
    {
      "cell_type": "code",
      "source": [
        "# Tomamos una columna con textos y vemos la serie\n",
        "datos['descripcion local']"
      ],
      "metadata": {
        "id": "_ySucHm1zC6e"
      },
      "execution_count": null,
      "outputs": []
    }
  ]
}